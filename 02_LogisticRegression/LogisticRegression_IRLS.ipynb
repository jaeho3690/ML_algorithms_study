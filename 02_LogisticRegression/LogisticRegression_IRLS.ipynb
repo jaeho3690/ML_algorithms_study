{
 "cells": [
  {
   "cell_type": "markdown",
   "metadata": {},
   "source": [
    "# Logistic Regression with IRLS implementation\n",
    "\n",
    "* Implement 10 fold cross validation\n",
    "* ROC AUC Plot"
   ]
  },
  {
   "cell_type": "code",
   "execution_count": 1,
   "metadata": {},
   "outputs": [],
   "source": [
    "import pandas as pd\n",
    "import numpy as np\n",
    "from numpy.linalg import inv\n",
    "import matplotlib.pyplot as plt\n",
    "from collections import defaultdict\n",
    "import os\n",
    "from sklearn.model_selection import train_test_split\n",
    "from sklearn.metrics import log_loss\n",
    "from sklearn.preprocessing import MinMaxScaler"
   ]
  },
  {
   "cell_type": "markdown",
   "metadata": {},
   "source": [
    "## 1. Import IRIS data"
   ]
  },
  {
   "cell_type": "code",
   "execution_count": 2,
   "metadata": {},
   "outputs": [],
   "source": [
    "raw_df = pd.read_csv('data/iris.csv')"
   ]
  },
  {
   "cell_type": "code",
   "execution_count": 3,
   "metadata": {},
   "outputs": [],
   "source": [
    "iris_df = raw_df[raw_df['variety']!='Setosa']"
   ]
  },
  {
   "cell_type": "code",
   "execution_count": 4,
   "metadata": {},
   "outputs": [],
   "source": [
    "scaler = MinMaxScaler()"
   ]
  },
  {
   "cell_type": "code",
   "execution_count": 5,
   "metadata": {},
   "outputs": [],
   "source": [
    "X = iris_df.iloc[:,:-1]\n",
    "y = iris_df.variety\n",
    "y= y.map({'Versicolor':1,'Virginica':0})"
   ]
  },
  {
   "cell_type": "code",
   "execution_count": 6,
   "metadata": {},
   "outputs": [
    {
     "data": {
      "text/plain": [
       "100"
      ]
     },
     "execution_count": 6,
     "metadata": {},
     "output_type": "execute_result"
    }
   ],
   "source": [
    "len(y)"
   ]
  },
  {
   "cell_type": "code",
   "execution_count": 7,
   "metadata": {},
   "outputs": [],
   "source": [
    "X = scaler.fit_transform(X)"
   ]
  },
  {
   "cell_type": "code",
   "execution_count": 8,
   "metadata": {},
   "outputs": [],
   "source": [
    "train_X,test_X,train_y,test_y = train_test_split(X,y,test_size=0.2,shuffle=True)"
   ]
  },
  {
   "cell_type": "code",
   "execution_count": 9,
   "metadata": {},
   "outputs": [
    {
     "data": {
      "text/plain": [
       "(80, 4)"
      ]
     },
     "execution_count": 9,
     "metadata": {},
     "output_type": "execute_result"
    }
   ],
   "source": [
    "train_X.shape"
   ]
  },
  {
   "cell_type": "code",
   "execution_count": 20,
   "metadata": {},
   "outputs": [],
   "source": [
    "class LogisticRegression:\n",
    "    def __init__(self,plot=True):\n",
    "        self.plot_loss = plot\n",
    "        pass\n",
    "    def fit(self,X,y):\n",
    "        self.train_X = self.transform_X(X)\n",
    "        self.train_y = self.transform_y(y)\n",
    "        self.N,self.D = self.train_X.shape\n",
    "        print(f\"Shape of train_X:{self.train_X.shape}\")\n",
    "        self.optimize(plot=self.plot_loss)\n",
    "        \n",
    "    def optimize(self,plot,epoch=10):\n",
    "        betas = np.zeros((self.D,1))\n",
    "        losses =[]\n",
    "        for e in range(epoch):\n",
    "            # I will follow Bishop notation\n",
    "            y = self.sigmoid(np.matmul(self.train_X,betas))\n",
    "            R = np.diag(np.ravel(y*(1-y)))\n",
    "            grad = np.matmul(self.train_X.T,(y-self.train_y))\n",
    "            hessian = np.matmul(np.matmul(self.train_X.T,R),self.train_X)+0.001*np.eye(self.D)\n",
    "            betas -= np.matmul(inv(hessian),grad)\n",
    "            loss = self.cross_entropy_loss(self.train_y,self.sigmoid(np.matmul(self.train_X,betas)))\n",
    "            losses.append(loss)\n",
    "        self.coef = betas[1:]\n",
    "        self.intercept = betas[0]\n",
    "        if plot:\n",
    "            plt.title('Loss Curve')\n",
    "            plt.xlabel('Update round')\n",
    "            plt.ylabel('Loss')\n",
    "            plt.plot(losses)\n",
    "        \n",
    "    \n",
    "    def predict(self,test_X, thres=0.5):\n",
    "        test_X = np.array(test_X)\n",
    "        pred_y= self.sigmoid(np.matmul(test_X,self.coef)+self.intercept)\n",
    "        return np.where(pred_y > thres, 1, 0)\n",
    "        \n",
    "    def predict_proba(self,test_X):\n",
    "        test_X = np.array(test_X)\n",
    "        return self.sigmoid(np.matmul(test_X,self.coef)+self.intercept)\n",
    "    \n",
    "    def transform_X(self,X):\n",
    "        X = np.array(X)\n",
    "        X = np.insert(X,0,np.ones((X.shape[0])),axis=1)\n",
    "        return X\n",
    "    def transform_y(self,y):\n",
    "        y = np.array(y)\n",
    "        y = y.reshape((y.shape[0],-1))\n",
    "        return y\n",
    "    \n",
    "    def cross_entropy_loss(self,y_true,y_pred,clip_val=1e-10):\n",
    "        y_pred = np.clip(y_pred,clip_val,1-clip_val)\n",
    "        loss = np.multiply(y_true,np.log(y_pred))\n",
    "        total_loss = -np.sum(loss,axis=0)\n",
    "        return total_loss\n",
    "        \n",
    "    def sigmoid(self,x):\n",
    "        return 1 / (1 +np.exp(-x))\n",
    "        "
   ]
  },
  {
   "cell_type": "code",
   "execution_count": 21,
   "metadata": {},
   "outputs": [
    {
     "name": "stdout",
     "output_type": "stream",
     "text": [
      "Shape of train_X:(80, 5)\n"
     ]
    },
    {
     "data": {
      "image/png": "[encoded data removed]",
      "text/plain": [
       "<Figure size 432x288 with 1 Axes>"
      ]
     },
     "metadata": {},
     "output_type": "display_data"
    }
   ],
   "source": [
    "LR_model = LogisticRegression()\n",
    "LR_model.fit(train_X,train_y)"
   ]
  },
  {
   "cell_type": "markdown",
   "metadata": {},
   "source": [
    "## 2. 10 Fold Cross Validation from scratch"
   ]
  },
  {
   "cell_type": "code",
   "execution_count": 12,
   "metadata": {},
   "outputs": [],
   "source": [
    "class PerformanceMeasure:\n",
    "    def __init__(self,predict_y,test_y):\n",
    "        self.predict_y = predict_y\n",
    "        self.test_y = test_y\n",
    "        self.calculate_confusion_matrix()\n",
    "        \n",
    "    def calculate_confusion_matrix(self):\n",
    "        self.tp = sum((self.predict_y==1)&(self.test_y==1))\n",
    "        self.tn = sum((self.predict_y==0)&(self.test_y==0))\n",
    "        self.fn = sum((self.predict_y==0)&(self.test_y==1))\n",
    "        self.fp = sum((self.predict_y==1)&(self.test_y==0))\n",
    "    def accuracy(self,eps =0.001):\n",
    "        self.accuracy= (self.tp+self.tn)/(len(self.test_y)+eps)\n",
    "        return self.accuracy\n",
    "    def sensitivity(self,eps=0.001):\n",
    "        self.sensitivity= (self.tp)/(self.tp+self.fn+eps)\n",
    "\n",
    "        return self.sensitivity\n",
    "    def specificity(self,eps=0.001):\n",
    "        self.specificity = (self.tn)/(self.tn+self.fp+eps)\n",
    "        return self.specificity\n",
    "    def false_positive_rate(self):\n",
    "        return (self.fp)/(self.tn+self.fp)\n",
    "    \n",
    "    def print_confusion(self):\n",
    "        print('='*40)\n",
    "        print('CONFUSION MATRIX')\n",
    "        print(f'TP:{self.tp}, FN:{self.fn}')\n",
    "        print(f'FP:{self.fp}, FP:{self.tn}')\n",
    "        print('='*40)\n",
    "            \n",
    "        #https://en.wikipedia.org/wiki/Sensitivity_and_specificity\n",
    "        "
   ]
  },
  {
   "cell_type": "code",
   "execution_count": 13,
   "metadata": {},
   "outputs": [],
   "source": [
    "class kfold:\n",
    "    def __init__(self,K,X,y):\n",
    "        self.K = K\n",
    "        self.X = np.array(X)\n",
    "        self.y = np.array(y)\n",
    "        self.shuffle()\n",
    "        self.total_samples =len(X)\n",
    "        self.split()\n",
    "\n",
    "        \n",
    "    def split(self):\n",
    "        self.split_data_X = np.array_split(self.X,self.K)\n",
    "        self.split_data_y = np.array_split(self.y,self.K)\n",
    "\n",
    "    def shuffle(self):\n",
    "        s = np.arange(self.X.shape[0])\n",
    "        np.random.shuffle(s)\n",
    "        self.X = self.X[s]\n",
    "        self.y = self.y[s]\n",
    "        \n",
    "    def run(self,model):\n",
    "        score_dict= defaultdict(list)\n",
    "        for i in range(self.K):\n",
    "            total_data_X = self.split_data_X.copy()\n",
    "            total_data_y = self.split_data_y.copy()\n",
    "            \n",
    "            \n",
    "            test_X = total_data_X[i].copy()\n",
    "            test_y = total_data_y[i].copy()\n",
    "            del total_data_X[i],total_data_y[i]\n",
    "            \n",
    "            \n",
    "            train_X = np.concatenate(total_data_X[:])\n",
    "            train_y = np.concatenate(total_data_y[:])\n",
    "            model.fit(train_X,train_y)\n",
    "            \n",
    "            predict_y_proba = model.predict_proba(test_X)\n",
    "            predict_y = model.predict(test_X)\n",
    "            measure = PerformanceMeasure(np.squeeze(predict_y),np.squeeze(test_y))\n",
    "            \n",
    "            accuracy = measure.accuracy()\n",
    "            sensitivity = measure.sensitivity()\n",
    "            specificity = measure.specificity()\n",
    "            \n",
    "            score_dict['accuracy'].append(accuracy)\n",
    "            score_dict['sensitivity'].append(sensitivity)\n",
    "            score_dict['specificity'].append(specificity)\n",
    "        print('='*50)\n",
    "        print(f\"With {self.K}-fold the scores are as below\")\n",
    "        print(f\"Accuracy: {np.mean(score_dict['accuracy'])}\")\n",
    "        print(f\"Sensitivity: {np.mean(score_dict['sensitivity'])}\")\n",
    "        print(f\"Specificity: {np.mean(score_dict['specificity'])}\")  \n",
    "        print('='*50)"
   ]
  },
  {
   "cell_type": "code",
   "execution_count": 14,
   "metadata": {},
   "outputs": [],
   "source": [
    "fold = kfold(10,X,y)"
   ]
  },
  {
   "cell_type": "code",
   "execution_count": 15,
   "metadata": {},
   "outputs": [
    {
     "name": "stdout",
     "output_type": "stream",
     "text": [
      "==================================================\n",
      "With 10-fold the scores are as below\n",
      "Accuracy: 0.9499050094990503\n",
      "Sensitivity: 0.9655008544606127\n",
      "Specificity: 0.956927128910927\n",
      "==================================================\n"
     ]
    },
    {
     "data": {
      "image/png": "[encoded data removed]",
      "text/plain": [
       "<Figure size 432x288 with 1 Axes>"
      ]
     },
     "metadata": {},
     "output_type": "display_data"
    }
   ],
   "source": [
    "fold.run(LR_model)\n",
    "plt.savefig('fig/Loss_Curve.png',dpi=300)"
   ]
  },
  {
   "cell_type": "markdown",
   "metadata": {},
   "source": [
    "## 3. One time estimation\n",
    "* train : 70% test: 30%"
   ]
  },
  {
   "cell_type": "code",
   "execution_count": 20,
   "metadata": {},
   "outputs": [],
   "source": [
    "def roc_auc(model,test_X,test_y):\n",
    "    tprs =[]\n",
    "    fprs =[]\n",
    "    threshold = [0.002 * i for i in range(500)]\n",
    "    \n",
    "    roc_points =[]\n",
    "    for thres in threshold:\n",
    "        predict_y = model.predict(test_X,thres=thres)\n",
    "        measure = PerformanceMeasure(np.squeeze(predict_y),np.squeeze(test_y))\n",
    "        sensitivity = measure.sensitivity()\n",
    "        fpr = measure.false_positive_rate()\n",
    "        tprs.append(sensitivity)\n",
    "        fprs.append(fpr)\n",
    "    tprs.append(0)\n",
    "    fprs.append(0)\n",
    "    plt.plot(fprs,tprs, 'y', lw=2)\n",
    "    plt.plot([0, 1], [0, 1], 'k-', lw=2)\n",
    "    plt.xlabel('False Positive Rate')\n",
    "    plt.ylabel('True Positive Rate')\n",
    "    plt.title('ROC Curve')\n",
    "    "
   ]
  },
  {
   "cell_type": "code",
   "execution_count": 21,
   "metadata": {},
   "outputs": [],
   "source": [
    "train_X,test_X,train_y,test_y = train_test_split(X,y,test_size=0.3,shuffle=True,random_state=9)"
   ]
  },
  {
   "cell_type": "code",
   "execution_count": 22,
   "metadata": {},
   "outputs": [
    {
     "data": {
      "image/png": "[encoded data removed]",
      "text/plain": [
       "<Figure size 432x288 with 1 Axes>"
      ]
     },
     "metadata": {},
     "output_type": "display_data"
    }
   ],
   "source": [
    "LR = LogisticRegression(False)\n",
    "LR.fit(train_X,train_y)\n",
    "roc_auc(LR,test_X,test_y)\n",
    "plt.savefig('fig/ROC-AUC.png',dpi=300)"
   ]
  },
  {
   "cell_type": "code",
   "execution_count": 23,
   "metadata": {},
   "outputs": [],
   "source": [
    "predict_y = LR.predict(test_X)\n",
    "measure = PerformanceMeasure(np.squeeze(predict_y),np.squeeze(test_y))"
   ]
  },
  {
   "cell_type": "code",
   "execution_count": 24,
   "metadata": {},
   "outputs": [
    {
     "name": "stdout",
     "output_type": "stream",
     "text": [
      "========================================\n",
      "CONFUSION MATRIX\n",
      "TP:18, FN:0\n",
      "FP:1, FP:11\n",
      "========================================\n"
     ]
    }
   ],
   "source": [
    "measure.print_confusion()"
   ]
  },
  {
   "cell_type": "code",
   "execution_count": 25,
   "metadata": {},
   "outputs": [],
   "source": [
    "specificity = measure.specificity()\n",
    "sensitivity = measure.sensitivity()\n",
    "accuracy = measure.accuracy()"
   ]
  },
  {
   "cell_type": "code",
   "execution_count": 26,
   "metadata": {},
   "outputs": [
    {
     "name": "stdout",
     "output_type": "stream",
     "text": [
      "ACCURACY: 0.9666344455184827\n",
      "SPECIFICITY: 0.9165902841429882\n",
      "SENSITIVITY: 0.9999444475306927\n"
     ]
    }
   ],
   "source": [
    "print('ACCURACY:', accuracy)\n",
    "print('SPECIFICITY:',specificity)\n",
    "print('SENSITIVITY:',sensitivity)"
   ]
  }
 ],
 "metadata": {
  "kernelspec": {
   "display_name": "Python 3",
   "language": "python",
   "name": "python3"
  },
  "language_info": {
   "codemirror_mode": {
    "name": "ipython",
    "version": 3
   },
   "file_extension": ".py",
   "mimetype": "text/x-python",
   "name": "python",
   "nbconvert_exporter": "python",
   "pygments_lexer": "ipython3",
   "version": "3.6.10"
  }
 },
 "nbformat": 4,
 "nbformat_minor": 2
}
