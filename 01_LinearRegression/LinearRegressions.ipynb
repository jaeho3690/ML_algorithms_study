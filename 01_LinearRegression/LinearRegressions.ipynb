{
 "cells": [
  {
   "cell_type": "markdown",
   "metadata": {},
   "source": [
    "## Linear Regression Vanilla Implementation from Scratch\n",
    "\n",
    "* 20205318 Kim Jaeho"
   ]
  },
  {
   "cell_type": "code",
   "execution_count": 1,
   "metadata": {},
   "outputs": [],
   "source": [
    "import numpy as np\n",
    "from numpy.linalg import inv\n",
    "from sklearn.model_selection import train_test_split\n",
    "from sklearn.metrics import r2_score\n",
    "import matplotlib.pyplot as plt\n",
    "import collections\n",
    "import seaborn as sns\n",
    "import pandas as pd\n",
    "import os"
   ]
  },
  {
   "cell_type": "markdown",
   "metadata": {},
   "source": [
    "## 1. Load Data and Split Data"
   ]
  },
  {
   "cell_type": "code",
   "execution_count": 2,
   "metadata": {},
   "outputs": [],
   "source": [
    "data_dir = 'data/'\n",
    "music_df = pd.read_csv(data_dir+'default_features_1059_tracks.csv')"
   ]
  },
  {
   "cell_type": "code",
   "execution_count": 3,
   "metadata": {},
   "outputs": [],
   "source": [
    "X = np.array(music_df.iloc[:,:-2])"
   ]
  },
  {
   "cell_type": "code",
   "execution_count": 38,
   "metadata": {},
   "outputs": [
    {
     "data": {
      "text/plain": [
       "(1059, 68)"
      ]
     },
     "execution_count": 38,
     "metadata": {},
     "output_type": "execute_result"
    }
   ],
   "source": [
    "X.shape"
   ]
  },
  {
   "cell_type": "code",
   "execution_count": 4,
   "metadata": {},
   "outputs": [],
   "source": [
    "latitude = np.array(music_df.Latitude)\n",
    "longitude = np.array(music_df.Longitude)"
   ]
  },
  {
   "cell_type": "markdown",
   "metadata": {},
   "source": [
    "* Set random state to **split dataset into train, val, test**"
   ]
  },
  {
   "cell_type": "code",
   "execution_count": 5,
   "metadata": {},
   "outputs": [],
   "source": [
    "random_state = 112"
   ]
  },
  {
   "cell_type": "code",
   "execution_count": 6,
   "metadata": {},
   "outputs": [],
   "source": [
    "def split_data(X,latitude,longitude,random_state):\n",
    "    X_train, X_test, latitude_train, latitude_test = train_test_split(X, latitude, test_size=0.2,random_state=random_state)\n",
    "    _, _, longitude_train, longitude_test = train_test_split(X, longitude, test_size=0.2,random_state=random_state)\n",
    "    X_train, X_val , latitude_train, latitude_val = train_test_split(X_train, latitude_train, test_size=0.2,random_state=random_state)\n",
    "    longitude_train, longitude_val = train_test_split(longitude_train, test_size=0.2,random_state=random_state)\n",
    "    \n",
    "    return X_train, X_val, X_test, latitude_train, latitude_val ,latitude_test, longitude_train, longitude_val,longitude_test"
   ]
  },
  {
   "cell_type": "code",
   "execution_count": 7,
   "metadata": {},
   "outputs": [],
   "source": [
    "X_train, X_val, X_test, latitude_train, latitude_val ,latitude_test, longitude_train, longitude_val,longitude_test=  split_data(X,latitude,longitude,random_state)"
   ]
  },
  {
   "cell_type": "code",
   "execution_count": 8,
   "metadata": {},
   "outputs": [
    {
     "name": "stdout",
     "output_type": "stream",
     "text": [
      "Train_X Shape:(677, 68), Val_X:(170, 68), Test_X Shape: (212, 68)\n",
      "latitude train Shape:(677,), latitude val Shape:(170,), latitude test Shape:(212,)\n",
      "longitude train Shape:(677,), longitude val Shape:(170,), longitude test Shape:(212,)\n"
     ]
    }
   ],
   "source": [
    "print(f'Train_X Shape:{X_train.shape}, Val_X:{X_val.shape}, Test_X Shape: {X_test.shape}')\n",
    "print(f'latitude train Shape:{latitude_train.shape}, latitude val Shape:{latitude_val.shape}, latitude test Shape:{latitude_test.shape}')\n",
    "print(f'longitude train Shape:{longitude_train.shape}, longitude val Shape:{longitude_val.shape}, longitude test Shape:{longitude_test.shape}')"
   ]
  },
  {
   "cell_type": "markdown",
   "metadata": {},
   "source": [
    "## 2. Check Scikit learn linear Regression for comparison"
   ]
  },
  {
   "cell_type": "code",
   "execution_count": 9,
   "metadata": {},
   "outputs": [
    {
     "data": {
      "text/plain": [
       "0.2505020096027709"
      ]
     },
     "execution_count": 9,
     "metadata": {},
     "output_type": "execute_result"
    }
   ],
   "source": [
    "from sklearn.linear_model import LinearRegression as SKLinearRegression \n",
    "sklearn_model = SKLinearRegression()\n",
    "sklearn_model.fit(X_train,latitude_train)\n",
    "y_predict_sklearn = sklearn_model.predict(X_test)\n",
    "r2_score(latitude_test,y_predict_sklearn)"
   ]
  },
  {
   "cell_type": "markdown",
   "metadata": {},
   "source": [
    "* Since Linear Regression has a **global solution**, the value should be same for the implemented model and sckit model"
   ]
  },
  {
   "cell_type": "markdown",
   "metadata": {},
   "source": [
    "## 3. Implement Vanilla Linear Regression Class"
   ]
  },
  {
   "cell_type": "code",
   "execution_count": 10,
   "metadata": {},
   "outputs": [],
   "source": [
    "class LinearRegression:\n",
    "    def __init__(self):\n",
    "        pass\n",
    "    def fit(self,train_X,train_y):\n",
    "        assert isinstance(train_X,(np.ndarray)) == True\n",
    "        assert isinstance(train_y,(np.ndarray)) == True\n",
    "        train_X = np.insert(train_X,0,np.ones((train_X.shape[0])),axis=1)\n",
    "        self.train_X = train_X\n",
    "        self.train_y = train_y\n",
    "        self.N, self.D = train_X.shape\n",
    "        self.estimate_coef()\n",
    "    def estimate_coef(self):\n",
    "        betas = np.matmul(np.matmul(inv(np.matmul(self.train_X.T,self.train_X)),self.train_X.T),self.train_y)\n",
    "        self.coef = betas[1:]\n",
    "        self.intercept = betas[0]\n",
    "    def predict(self,test_X,test_y,print_score=True):\n",
    "        predict_y = np.matmul(test_X,self.coef)+self.intercept\n",
    "        if print_score:\n",
    "            print('Implemented R2 score: ',self.r2_score(test_y,predict_y))\n",
    "            print('ScikitLearn R2 score: ',r2_score(test_y,predict_y))\n",
    "        return r2_score(test_y,predict_y)\n",
    "    def r2_score(self,y_true,y_pred):\n",
    "        y_bar = np.mean(y_true)\n",
    "        SSR = np.sum((y_true-y_pred)**2)\n",
    "        SST = np.sum((y_true-y_bar)**2)\n",
    "        r2=  1-(SSR/SST)\n",
    "        return r2\n",
    "    def coef_values(self,save_name=None):\n",
    "        coef_dict={}\n",
    "        for idx,coef_val in enumerate(self.coef):\n",
    "            coef_dict[str(idx+1)]= coef_val\n",
    "        coef_dicts= dict(sorted(coef_dict.items(), key=lambda item: item[1]))\n",
    "        plt.bar(range(len(coef_dicts)), list(coef_dicts.values()), align='center')\n",
    "        plt.title('Coefficient Values Sorted')\n",
    "        if save_name:\n",
    "            plt.savefig(f'fig/{save_name}.png',dpi=300)\n",
    "        plt.show()"
   ]
  },
  {
   "cell_type": "code",
   "execution_count": 11,
   "metadata": {},
   "outputs": [
    {
     "name": "stdout",
     "output_type": "stream",
     "text": [
      "Implemented R2 score:  0.2505020096027707\n",
      "ScikitLearn R2 score:  0.2505020096027707\n"
     ]
    },
    {
     "data": {
      "image/png": "[encoded data removed]",
      "text/plain": [
       "<Figure size 432x288 with 1 Axes>"
      ]
     },
     "metadata": {},
     "output_type": "display_data"
    }
   ],
   "source": [
    "model = LinearRegression()\n",
    "model.fit(X_train,latitude_train)\n",
    "model.predict(X_test,latitude_test)\n",
    "model.coef_values('coef_norms_vanilla_latitude')"
   ]
  },
  {
   "cell_type": "markdown",
   "metadata": {},
   "source": [
    "* The R-square is **exactly same** as the Scikit learn"
   ]
  },
  {
   "cell_type": "code",
   "execution_count": 12,
   "metadata": {},
   "outputs": [
    {
     "name": "stdout",
     "output_type": "stream",
     "text": [
      "Implemented R2 score:  0.2407273105591028\n",
      "ScikitLearn R2 score:  0.2407273105591028\n"
     ]
    },
    {
     "data": {
      "image/png": "[encoded data removed]",
      "text/plain": [
       "<Figure size 432x288 with 1 Axes>"
      ]
     },
     "metadata": {},
     "output_type": "display_data"
    }
   ],
   "source": [
    "model = LinearRegression()\n",
    "model.fit(X_train,longitude_train)\n",
    "model.predict(X_test,longitude_test)\n",
    "model.coef_values('coef_norms_vanilla_longitude')"
   ]
  },
  {
   "cell_type": "markdown",
   "metadata": {},
   "source": [
    "## 4. Implement Ridge Regression Class(L2)"
   ]
  },
  {
   "cell_type": "code",
   "execution_count": 13,
   "metadata": {},
   "outputs": [],
   "source": [
    "class RidgeLinearRegression(LinearRegression):\n",
    "    def __init__(self,regularizer_coef=75):\n",
    "        self.regularizer_coef = regularizer_coef\n",
    "    def estimate_coef(self):\n",
    "        betas = np.matmul(np.matmul(inv(np.matmul(self.train_X.T,self.train_X)+self.regularizer_coef*np.eye(self.D)),self.train_X.T),self.train_y)\n",
    "        self.coef = betas[1:]\n",
    "        self.intercept = betas[0]"
   ]
  },
  {
   "cell_type": "code",
   "execution_count": 14,
   "metadata": {},
   "outputs": [
    {
     "name": "stdout",
     "output_type": "stream",
     "text": [
      "Implemented R2 score:  0.22081014731542747\n",
      "ScikitLearn R2 score:  0.22081014731542747\n"
     ]
    },
    {
     "data": {
      "image/png": "[encoded data removed]",
      "text/plain": [
       "<Figure size 432x288 with 1 Axes>"
      ]
     },
     "metadata": {},
     "output_type": "display_data"
    }
   ],
   "source": [
    "Ridge = RidgeLinearRegression(75)\n",
    "Ridge.fit(X_train,latitude_train)\n",
    "Ridge.predict(X_test,latitude_test)\n",
    "Ridge.coef_values('coef_norms_ridge_latitude')"
   ]
  },
  {
   "cell_type": "code",
   "execution_count": 15,
   "metadata": {},
   "outputs": [
    {
     "name": "stdout",
     "output_type": "stream",
     "text": [
      "Implemented R2 score:  0.26628298343184176\n",
      "ScikitLearn R2 score:  0.26628298343184176\n"
     ]
    },
    {
     "data": {
      "image/png": "[encoded data removed]",
      "text/plain": [
       "<Figure size 432x288 with 1 Axes>"
      ]
     },
     "metadata": {},
     "output_type": "display_data"
    }
   ],
   "source": [
    "Ridge = RidgeLinearRegression(5)\n",
    "Ridge.fit(X_train,longitude_train)\n",
    "Ridge.predict(X_test,longitude_test)\n",
    "Ridge.coef_values('coef_norms_ridge_longitude')"
   ]
  },
  {
   "cell_type": "markdown",
   "metadata": {},
   "source": [
    "## 5. Implement Lasso Regression Class(L1)"
   ]
  },
  {
   "cell_type": "code",
   "execution_count": 16,
   "metadata": {},
   "outputs": [],
   "source": [
    "class LassoLinearRegression(LinearRegression):\n",
    "    def __init__(self,regularizer_coef=50):\n",
    "        self.regularizer_coef = regularizer_coef\n",
    "    def estimate_coef(self,epoch=50):\n",
    "        self.betas = np.zeros(self.D)\n",
    "        update_threshold = 10\n",
    "        #while update_threshold > 5:\n",
    "        for e in range(epoch):\n",
    "            for d in range(self.D):\n",
    "                # Calculate except the bias term\n",
    "                ro = self.calculate_ro_j(d)\n",
    "                denominator = np.sum(self.train_X[:,d]**2,axis=0)\n",
    "                if ro > self.regularizer_coef:\n",
    "                    self.betas[d]= (-self.regularizer_coef+ro)/ denominator\n",
    "                elif ro < -self.regularizer_coef:\n",
    "                    self.betas[d]= (self.regularizer_coef+ro)/ denominator\n",
    "                else:\n",
    "                    self.betas[d]=0\n",
    "        self.coef = self.betas[1:]\n",
    "        self.intercept = self.betas[0]\n",
    "    def calculate_ro_j(self,current_j):\n",
    "        other_column_indices = [i for i in range(self.D) if i!=current_j]\n",
    "        \n",
    "        coefs_without_j = self.betas[other_column_indices]\n",
    "        X_without_j = self.train_X[:,other_column_indices]\n",
    "        ro = np.sum(np.multiply(self.train_y-np.sum(np.multiply(coefs_without_j,X_without_j),axis=1),self.train_X[:,current_j]),axis=0)\n",
    "        return ro\n",
    "    \n",
    "    def count_zero_coefs(self):\n",
    "        counts = collections.Counter(self.coef)\n",
    "        print(f'There are total of {counts[0]} zeros in coefficients out of {len(self.coef)}')\n",
    "        \n",
    "    \n",
    "        \n",
    "        "
   ]
  },
  {
   "cell_type": "code",
   "execution_count": 17,
   "metadata": {},
   "outputs": [
    {
     "name": "stdout",
     "output_type": "stream",
     "text": [
      "Implemented R2 score:  0.2573964319787724\n",
      "ScikitLearn R2 score:  0.2573964319787724\n"
     ]
    },
    {
     "data": {
      "image/png": "[encoded data removed]",
      "text/plain": [
       "<Figure size 432x288 with 1 Axes>"
      ]
     },
     "metadata": {},
     "output_type": "display_data"
    }
   ],
   "source": [
    "Lasso = LassoLinearRegression()\n",
    "Lasso.fit(X_train,latitude_train)\n",
    "Lasso.predict(X_test,latitude_test)\n",
    "Lasso.coef_values('coef_norms_lasso_latitude')"
   ]
  },
  {
   "cell_type": "code",
   "execution_count": 18,
   "metadata": {},
   "outputs": [
    {
     "name": "stdout",
     "output_type": "stream",
     "text": [
      "Implemented R2 score:  0.26915143597247326\n",
      "ScikitLearn R2 score:  0.26915143597247326\n"
     ]
    },
    {
     "data": {
      "image/png": "[encoded data removed]",
      "text/plain": [
       "<Figure size 432x288 with 1 Axes>"
      ]
     },
     "metadata": {},
     "output_type": "display_data"
    }
   ],
   "source": [
    "Lasso = LassoLinearRegression()\n",
    "Lasso.fit(X_train,longitude_train)\n",
    "Lasso.predict(X_test,longitude_test)\n",
    "Lasso.coef_values('coef_norms_ridge_longitude')"
   ]
  },
  {
   "cell_type": "markdown",
   "metadata": {},
   "source": [
    "# Questions"
   ]
  },
  {
   "cell_type": "markdown",
   "metadata": {},
   "source": [
    "### 2-A. \n",
    "* First, build a straightforward linear regression of latitude and longitude respectively against features. What is the R-squared of each model? Plot a graph evaluating each regression\n",
    "\n"
   ]
  },
  {
   "cell_type": "markdown",
   "metadata": {},
   "source": [
    "**ANS)** \n",
    "\n",
    "* Maximum R2 value for Simple Linear Regression\n",
    "* latitude:0.2900213312438068 longitude:0.31973198253178436\n",
    "\n",
    "* Maximum R2 value for Ridge\n",
    "* latitude:0.22799450780304376 longitude:0.29962473733787753\n",
    "\n",
    "* Maximum R2 value for Lasso\n",
    "* latitude:0.2872992666286345 longitude:0.319594923194787"
   ]
  },
  {
   "cell_type": "code",
   "execution_count": 19,
   "metadata": {},
   "outputs": [],
   "source": [
    "def plot_r2(X,latitude,longitude):\n",
    "    random_states = range(100)\n",
    "    vanilla_latitude_regression=[]\n",
    "    ridge_latitude_regression = []\n",
    "    lasso_latitude_regression =[]\n",
    "    \n",
    "    vanilla_longitude_regression=[]\n",
    "    ridge_longitude_regression = []\n",
    "    lasso_longitude_regression =[]\n",
    "    \n",
    "    maximum_r2_ridge =-1\n",
    "    maximum_r2_lasso =-1\n",
    "    maximum_random_state_ridge =-1\n",
    "    maximum_random_state_lasso =-1\n",
    "    \n",
    "    for i in random_states:\n",
    "        if i%10==0:\n",
    "            print('Random State ',i)\n",
    "        X_train, X_val, X_test, latitude_train, latitude_val ,latitude_test, longitude_train, longitude_val,longitude_test= split_data(X,latitude,longitude,random_state=i)\n",
    "        vanilla = LinearRegression()\n",
    "        vanilla.fit(X_train,latitude_train)\n",
    "        vanilla_latitude_regression.append(vanilla.predict(X_test,latitude_test,False))\n",
    "\n",
    "        vanilla = LinearRegression()\n",
    "        vanilla.fit(X_train,longitude_train)\n",
    "        vanilla_longitude_regression.append(vanilla.predict(X_test,longitude_test,False))\n",
    "        \n",
    "        Ridge = RidgeLinearRegression()\n",
    "        Ridge.fit(X_train,latitude_train)\n",
    "        ridge_latitude_regression.append(Ridge.predict(X_test,latitude_test,False))\n",
    "        if Ridge.predict(X_test,latitude_test,False)> maximum_r2_ridge:\n",
    "            maximum_random_state_ridge= i\n",
    "            maximum_r2_ridge = Ridge.predict(X_test,latitude_test,False)\n",
    "            \n",
    "\n",
    "        Ridge = RidgeLinearRegression()\n",
    "        Ridge.fit(X_train,longitude_train)\n",
    "        ridge_longitude_regression.append(Ridge.predict(X_test,longitude_test,False))\n",
    "\n",
    "        Lasso = LassoLinearRegression()\n",
    "        Lasso.fit(X_train,latitude_train)\n",
    "        lasso_latitude_regression.append(Lasso.predict(X_test,latitude_test,False))\n",
    "        if Lasso.predict(X_test,latitude_test,False)> maximum_r2_lasso:\n",
    "            maximum_random_state_lasso= i\n",
    "            maximum_r2_lasso =Lasso.predict(X_test,latitude_test,False)\n",
    "            \n",
    "        Lasso = LassoLinearRegression()\n",
    "        Lasso.fit(X_train,longitude_train)\n",
    "        lasso_longitude_regression.append(Lasso.predict(X_test,longitude_test,False))\n",
    "    print(f'Maximum Random State for Ridge is {maximum_random_state_ridge} and Maximum Random State for Lasso is {maximum_random_state_lasso}')\n",
    "    print('')\n",
    "    print('Maximum R2 value for Simple Linear Regression')\n",
    "    print(f'latitude:{max(vanilla_latitude_regression)} longitude:{max(vanilla_longitude_regression)}')\n",
    "    print('')\n",
    "    print('Maximum R2 value for Ridge')\n",
    "    print(f'latitude:{max(ridge_latitude_regression)} longitude:{max(ridge_longitude_regression)}')\n",
    "    print('')\n",
    "    print(f'Maximum R2 value for Lasso')\n",
    "    print(f'latitude:{max(lasso_latitude_regression)} longitude:{max(lasso_longitude_regression)}')\n",
    "    \n",
    "    latitude_r2_dict ={'Vanilla_latitude':vanilla_latitude_regression,'Ridge_latitude':ridge_latitude_regression,'Lasso_latitude':lasso_latitude_regression,}\n",
    "\n",
    "    longitude_r2_dict ={'Vanilla_longitude':vanilla_longitude_regression,'Ridge_longitude':ridge_longitude_regression,'Lasso_longitude':lasso_longitude_regression}\n",
    "        \n",
    "    return pd.DataFrame(latitude_r2_dict), pd.DataFrame(longitude_r2_dict)\n",
    "        "
   ]
  },
  {
   "cell_type": "code",
   "execution_count": 20,
   "metadata": {},
   "outputs": [
    {
     "name": "stdout",
     "output_type": "stream",
     "text": [
      "Random State  0\n",
      "Random State  10\n",
      "Random State  20\n",
      "Random State  30\n",
      "Random State  40\n",
      "Random State  50\n",
      "Random State  60\n",
      "Random State  70\n",
      "Random State  80\n",
      "Random State  90\n",
      "Maximum Random State for Ridge is 84 and Maximum Random State for Lasso is 84\n",
      "\n",
      "Maximum R2 value for Simple Linear Regression\n",
      "latitude:0.2900213312438068 longitude:0.31973198253178436\n",
      "\n",
      "Maximum R2 value for Ridge\n",
      "latitude:0.27646212759195954 longitude:0.3134377346167956\n",
      "\n",
      "Maximum R2 value for Lasso\n",
      "latitude:0.2872992666286345 longitude:0.319594923194787\n"
     ]
    }
   ],
   "source": [
    "latitude_df,longitude_df = plot_r2(X,latitude,longitude)"
   ]
  },
  {
   "cell_type": "code",
   "execution_count": 21,
   "metadata": {},
   "outputs": [
    {
     "data": {
      "text/html": [
       "<div>\n",
       "<style scoped>\n",
       "    .dataframe tbody tr th:only-of-type {\n",
       "        vertical-align: middle;\n",
       "    }\n",
       "\n",
       "    .dataframe tbody tr th {\n",
       "        vertical-align: top;\n",
       "    }\n",
       "\n",
       "    .dataframe thead th {\n",
       "        text-align: right;\n",
       "    }\n",
       "</style>\n",
       "<table border=\"1\" class=\"dataframe\">\n",
       "  <thead>\n",
       "    <tr style=\"text-align: right;\">\n",
       "      <th></th>\n",
       "      <th>Vanilla_latitude</th>\n",
       "      <th>Ridge_latitude</th>\n",
       "      <th>Lasso_latitude</th>\n",
       "    </tr>\n",
       "  </thead>\n",
       "  <tbody>\n",
       "    <tr>\n",
       "      <th>0</th>\n",
       "      <td>0.185886</td>\n",
       "      <td>0.186094</td>\n",
       "      <td>0.207609</td>\n",
       "    </tr>\n",
       "    <tr>\n",
       "      <th>1</th>\n",
       "      <td>0.113527</td>\n",
       "      <td>0.163540</td>\n",
       "      <td>0.121442</td>\n",
       "    </tr>\n",
       "    <tr>\n",
       "      <th>2</th>\n",
       "      <td>0.141278</td>\n",
       "      <td>0.153475</td>\n",
       "      <td>0.162217</td>\n",
       "    </tr>\n",
       "    <tr>\n",
       "      <th>3</th>\n",
       "      <td>0.120958</td>\n",
       "      <td>0.163378</td>\n",
       "      <td>0.151643</td>\n",
       "    </tr>\n",
       "    <tr>\n",
       "      <th>4</th>\n",
       "      <td>-0.032516</td>\n",
       "      <td>0.078859</td>\n",
       "      <td>-0.011219</td>\n",
       "    </tr>\n",
       "  </tbody>\n",
       "</table>\n",
       "</div>"
      ],
      "text/plain": [
       "   Vanilla_latitude  Ridge_latitude  Lasso_latitude\n",
       "0          0.185886        0.186094        0.207609\n",
       "1          0.113527        0.163540        0.121442\n",
       "2          0.141278        0.153475        0.162217\n",
       "3          0.120958        0.163378        0.151643\n",
       "4         -0.032516        0.078859       -0.011219"
      ]
     },
     "execution_count": 21,
     "metadata": {},
     "output_type": "execute_result"
    }
   ],
   "source": [
    "latitude_df.head()"
   ]
  },
  {
   "cell_type": "markdown",
   "metadata": {},
   "source": [
    "* I tested on 100 different combination of train test set by varying the random states of train test split. "
   ]
  },
  {
   "cell_type": "code",
   "execution_count": 28,
   "metadata": {},
   "outputs": [
    {
     "data": {
      "image/png": "[encoded data removed]",
      "text/plain": [
       "<Figure size 432x288 with 1 Axes>"
      ]
     },
     "metadata": {},
     "output_type": "display_data"
    }
   ],
   "source": [
    "fig, ax = plt.subplots()\n",
    "sns.boxplot(x = \"variable\", y = \"value\", palette = \"Set3\", data = pd.melt(latitude_df),ax=ax)\n",
    "plt.savefig('fig/boxplot_comparison_latitude.png',dpi=300)"
   ]
  },
  {
   "cell_type": "code",
   "execution_count": 30,
   "metadata": {},
   "outputs": [
    {
     "data": {
      "image/png": "[encoded data removed]",
      "text/plain": [
       "<Figure size 432x288 with 1 Axes>"
      ]
     },
     "metadata": {},
     "output_type": "display_data"
    }
   ],
   "source": [
    "fig, ax = plt.subplots()\n",
    "sns.boxplot(x = \"variable\", y = \"value\", palette = \"Set3\", data = pd.melt(longitude_df),ax=ax)\n",
    "plt.savefig('fig/boxplot_comparison_longitude.png',dpi=300)"
   ]
  },
  {
   "cell_type": "markdown",
   "metadata": {},
   "source": [
    "### 2-B. \n",
    "* A regression regularized by L2 (equivalently, a ridge regression). You should estimate the\n",
    "regularization coefficient that produces the minimum error. Is the regularized regression better than the\n",
    "unregularized regression?"
   ]
  },
  {
   "cell_type": "markdown",
   "metadata": {},
   "source": [
    "* **ANS)** Regularized Ridge regression is not necessarily always better than unregrularized regression. As we can see the regressor predicting latitude performs poorly on average compared to vanilla regressor. This may be due to the nature of ridge regression, where it shrinks the coefficients for least important variables **close to zero**. However, it will never make them exactly zero where the final model will still be influenced by these non important variables. Thus, there may be cases where vanilla regressor outperforms ridge linear regression\n",
    "\n",
    "* Best lambda value is 75 and 5 respectively\n",
    "\n",
    "* Ref)https://towardsdatascience.com/regularization-in-machine-learning-76441ddcf99a"
   ]
  },
  {
   "cell_type": "code",
   "execution_count": 31,
   "metadata": {},
   "outputs": [],
   "source": [
    "def plot_by_lambda_Ridge(X_train,X_val, longitude_train,longitude_val,latitude_train,latitude_val,lambda_max=200):\n",
    "    lambda_lists =[5*i for i in range(lambda_max)]\n",
    "    r2_vals_longitude ={}\n",
    "    r2_vals_latitude ={}\n",
    "    for lambda_val in lambda_lists:\n",
    "        Ridge = RidgeLinearRegression(regularizer_coef=lambda_val)\n",
    "        Ridge.fit(X_train,longitude_train)\n",
    "        r2_vals_longitude[lambda_val]=Ridge.predict(X_val,longitude_val,False)\n",
    "\n",
    "\n",
    "        Ridge = RidgeLinearRegression(regularizer_coef=lambda_val)\n",
    "        Ridge.fit(X_train,latitude_train)\n",
    "        r2_vals_latitude[lambda_val]=Ridge.predict(X_val,latitude_val,False)\n",
    "        \n",
    "    max_value_longitude = max(r2_vals_longitude.values())  # maximum value\n",
    "    max_keys_longitude = [k for k, v in r2_vals_longitude.items() if v == max_value_longitude]\n",
    "\n",
    "    max_value_latitude = max(r2_vals_latitude.values())  # maximum value\n",
    "    max_keys_latitude = [k for k, v in r2_vals_latitude.items() if v == max_value_latitude]\n",
    "    \n",
    "    print('Longitude')\n",
    "    print(f'R2 Value:{max_value_longitude}, Lambda: {max_keys_longitude[0]}')\n",
    "    print('Latitude')\n",
    "    print(f'R2 Value:{max_value_latitude}, Lambda: {max_keys_latitude[0]}')\n",
    "    \n",
    "    \n",
    "    lists_longitude = sorted(r2_vals_longitude.items())\n",
    "    lists_latitude = sorted(r2_vals_latitude.items())\n",
    "    x_long, y_long = zip(*lists_longitude)\n",
    "    plt.title('Longitude')\n",
    "    plt.xlabel('Lambda Value')\n",
    "    plt.ylabel('R2')\n",
    "    plt.plot(x_long, y_long)\n",
    "    plt.savefig('fig/lambda_longitude_ridge.png',dpi=300)\n",
    "    plt.show()\n",
    "    plt.title('Latitude')\n",
    "    plt.xlabel('Lambda Value')\n",
    "    plt.ylabel('R2')\n",
    "    x_lat, y_lat = zip(*lists_latitude)\n",
    "    plt.plot(x_lat, y_lat)\n",
    "    plt.savefig('fig/lambda_latitude_ridge.png',dpi=300)\n",
    "    plt.show()"
   ]
  },
  {
   "cell_type": "code",
   "execution_count": 32,
   "metadata": {},
   "outputs": [
    {
     "name": "stdout",
     "output_type": "stream",
     "text": [
      "Longitude\n",
      "R2 Value:0.2295861064039053, Lambda: 75\n",
      "Latitude\n",
      "R2 Value:0.07590162382468513, Lambda: 5\n"
     ]
    },
    {
     "data": {
      "image/png": "[encoded data removed]",
      "text/plain": [
       "<Figure size 432x288 with 1 Axes>"
      ]
     },
     "metadata": {},
     "output_type": "display_data"
    },
    {
     "data": {
      "image/png": "[encoded data removed]",
      "text/plain": [
       "<Figure size 432x288 with 1 Axes>"
      ]
     },
     "metadata": {},
     "output_type": "display_data"
    }
   ],
   "source": [
    "plot_by_lambda_Ridge(X_train,X_val, longitude_train,longitude_val,latitude_train,latitude_val)"
   ]
  },
  {
   "cell_type": "code",
   "execution_count": 33,
   "metadata": {},
   "outputs": [
    {
     "name": "stdout",
     "output_type": "stream",
     "text": [
      "Implemented R2 score:  0.07590162382468513\n",
      "ScikitLearn R2 score:  0.07590162382468513\n"
     ]
    },
    {
     "data": {
      "image/png": "[encoded data removed]",
      "text/plain": [
       "<Figure size 432x288 with 1 Axes>"
      ]
     },
     "metadata": {},
     "output_type": "display_data"
    }
   ],
   "source": [
    "Ridge = RidgeLinearRegression(regularizer_coef=5)\n",
    "Ridge.fit(X_train,latitude_train)\n",
    "Ridge.predict(X_val,latitude_val)\n",
    "Ridge.coef_values()"
   ]
  },
  {
   "cell_type": "code",
   "execution_count": 34,
   "metadata": {},
   "outputs": [
    {
     "name": "stdout",
     "output_type": "stream",
     "text": [
      "Implemented R2 score:  0.2295861064039053\n",
      "ScikitLearn R2 score:  0.2295861064039053\n"
     ]
    },
    {
     "data": {
      "image/png": "[encoded data removed]",
      "text/plain": [
       "<Figure size 432x288 with 1 Axes>"
      ]
     },
     "metadata": {},
     "output_type": "display_data"
    }
   ],
   "source": [
    "Ridge = RidgeLinearRegression(regularizer_coef=75)\n",
    "Ridge.fit(X_train,longitude_train)\n",
    "Ridge.predict(X_val,longitude_val)\n",
    "Ridge.coef_values()"
   ]
  },
  {
   "cell_type": "markdown",
   "metadata": {},
   "source": [
    "### 2-C. \n",
    "* A regression regularized by L1 (equivalently, a lasso regression). You should estimate the\n",
    "regularization coefficient that produces the minimum error. How many variables are used by this\n",
    "regression? Is the regularized regression better than the unregularized regression?"
   ]
  },
  {
   "cell_type": "markdown",
   "metadata": {},
   "source": [
    "* **ANS)** \n",
    "\n",
    "* For Lasso regression, the regularization seems better than vanilla regression. \n",
    "\n",
    "* The coefficient that produces the minimum error is 465 and 75.\n",
    "\n",
    "* For Longitude, 25 variables were not used. For Latitude, 22 variables were not used"
   ]
  },
  {
   "cell_type": "code",
   "execution_count": null,
   "metadata": {},
   "outputs": [],
   "source": [
    "def plot_by_lambda_Lasso(X_train,X_val, longitude_train,longitude_val,latitude_train,latitude_val,lambda_max=200):\n",
    "    lambda_lists =[5*i for i in range(lambda_max)]\n",
    "    r2_vals_longitude ={}\n",
    "    r2_vals_latitude ={}\n",
    "    for lambda_val in lambda_lists:\n",
    "        Lasso = LassoLinearRegression(regularizer_coef=lambda_val)\n",
    "        Lasso.fit(X_train,longitude_train)\n",
    "        r2_vals_longitude[lambda_val]=Lasso.predict(X_val,longitude_val,False)\n",
    "\n",
    "\n",
    "        Lasso = LassoLinearRegression(regularizer_coef=lambda_val)\n",
    "        Lasso.fit(X_train,latitude_train)\n",
    "        r2_vals_latitude[lambda_val]=Lasso.predict(X_val,latitude_val,False)\n",
    "        \n",
    "    max_value_longitude = max(r2_vals_longitude.values())  # maximum value\n",
    "    max_keys_longitude = [k for k, v in r2_vals_longitude.items() if v == max_value_longitude]\n",
    "\n",
    "    max_value_latitude = max(r2_vals_latitude.values())  # maximum value\n",
    "    max_keys_latitude = [k for k, v in r2_vals_latitude.items() if v == max_value_latitude]\n",
    "    \n",
    "    print('Longitude')\n",
    "    print(f'R2 Value:{max_value_longitude}, Lambda: {max_keys_longitude[0]}')\n",
    "    print('Latitude')\n",
    "    print(f'R2 Value:{max_value_latitude}, Lambda: {max_keys_latitude[0]}')\n",
    "    \n",
    "    lists_longitude = sorted(r2_vals_longitude.items())\n",
    "    lists_latitude = sorted(r2_vals_latitude.items())\n",
    "    x_long, y_long = zip(*lists_longitude)\n",
    "    plt.title('Longitude')\n",
    "    plt.xlabel('Lambda Value')\n",
    "    plt.ylabel('R2')\n",
    "    plt.plot(x_long, y_long)\n",
    "    plt.savefig('fig/lambda_longitude_lasso.png',dpi=300)\n",
    "    plt.show()\n",
    "    plt.title('Latitude')\n",
    "    plt.xlabel('Lambda Value')\n",
    "    plt.ylabel('R2')\n",
    "    x_lat, y_lat = zip(*lists_latitude)\n",
    "    plt.plot(x_lat, y_lat)\n",
    "    plt.savefig('fig/lambda_latitude_lasso.png',dpi=300)\n",
    "    plt.show()"
   ]
  },
  {
   "cell_type": "code",
   "execution_count": 37,
   "metadata": {},
   "outputs": [
    {
     "name": "stdout",
     "output_type": "stream",
     "text": [
      "Longitude\n",
      "R2 Value:0.25857180280227876, Lambda: 465\n",
      "Latitude\n",
      "R2 Value:0.07674964131631956, Lambda: 75\n"
     ]
    },
    {
     "data": {
      "image/png": "[encoded data removed]",
      "text/plain": [
       "<Figure size 432x288 with 1 Axes>"
      ]
     },
     "metadata": {},
     "output_type": "display_data"
    },
    {
     "data": {
      "image/png": "[encoded data removed]",
      "text/plain": [
       "<Figure size 432x288 with 1 Axes>"
      ]
     },
     "metadata": {},
     "output_type": "display_data"
    }
   ],
   "source": [
    "plot_by_lambda_Lasso(X_train,X_val, longitude_train,longitude_val,latitude_train,latitude_val,lambda_max=100)"
   ]
  },
  {
   "cell_type": "code",
   "execution_count": 114,
   "metadata": {},
   "outputs": [
    {
     "name": "stdout",
     "output_type": "stream",
     "text": [
      "Implemented R2 score:  0.2953400261165342\n",
      "ScikitLearn R2 score:  0.2953400261165342\n"
     ]
    },
    {
     "data": {
      "image/png": "[encoded data removed]",
      "text/plain": [
       "<Figure size 432x288 with 1 Axes>"
      ]
     },
     "metadata": {},
     "output_type": "display_data"
    }
   ],
   "source": [
    "Lasso = LassoLinearRegression(regularizer_coef=465)\n",
    "Lasso.fit(X_train,longitude_train)\n",
    "Lasso.predict(X_test,longitude_test)\n",
    "Lasso.coef_values()"
   ]
  },
  {
   "cell_type": "code",
   "execution_count": 108,
   "metadata": {},
   "outputs": [
    {
     "name": "stdout",
     "output_type": "stream",
     "text": [
      "There are total of 25 zeros in coefficients out of 68\n"
     ]
    }
   ],
   "source": [
    "Lasso.count_zero_coefs()"
   ]
  },
  {
   "cell_type": "code",
   "execution_count": 112,
   "metadata": {},
   "outputs": [
    {
     "name": "stdout",
     "output_type": "stream",
     "text": [
      "Implemented R2 score:  0.25690440028826733\n",
      "ScikitLearn R2 score:  0.25690440028826733\n"
     ]
    },
    {
     "data": {
      "image/png": "[encoded data removed]",
      "text/plain": [
       "<Figure size 432x288 with 1 Axes>"
      ]
     },
     "metadata": {},
     "output_type": "display_data"
    }
   ],
   "source": [
    "Lasso = LassoLinearRegression(regularizer_coef=75)\n",
    "Lasso.fit(X_train,latitude_train)\n",
    "Lasso.predict(X_test,latitude_test)\n",
    "Lasso.coef_values()"
   ]
  },
  {
   "cell_type": "code",
   "execution_count": 113,
   "metadata": {},
   "outputs": [
    {
     "name": "stdout",
     "output_type": "stream",
     "text": [
      "There are total of 22 zeros in coefficients out of 68\n"
     ]
    }
   ],
   "source": [
    "Lasso.count_zero_coefs()"
   ]
  },
  {
   "cell_type": "markdown",
   "metadata": {},
   "source": [
    "### 3. \n",
    "* Summarize what you found by comparing all three methods. \n",
    "\n",
    "* **ANS)**\n",
    "\n",
    "* It was interesting to find out that Regularization **doesn't necessary mean better performance**. There are several cases where the vanilla model outperforms the regularized one. However, regularized method did indeed show **stable performance** compared to vanilla models. They had in general smaller box plots compared to vanilla. Regularized method(Lasso) also **shows more interpretability** in that less important variables are totally ignored. \n",
    "\n",
    "* The performance varied greatly depending on how we split the dataset. Especially for latitude testing, the quantiles of vanilla model was noticeably larger than that of others"
   ]
  },
  {
   "cell_type": "code",
   "execution_count": null,
   "metadata": {},
   "outputs": [],
   "source": []
  }
 ],
 "metadata": {
  "kernelspec": {
   "display_name": "Python 3",
   "language": "python",
   "name": "python3"
  },
  "language_info": {
   "codemirror_mode": {
    "name": "ipython",
    "version": 3
   },
   "file_extension": ".py",
   "mimetype": "text/x-python",
   "name": "python",
   "nbconvert_exporter": "python",
   "pygments_lexer": "ipython3",
   "version": "3.6.10"
  }
 },
 "nbformat": 4,
 "nbformat_minor": 2
}
